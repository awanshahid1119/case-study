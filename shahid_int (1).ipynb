{
 "cells": [
  {
   "cell_type": "code",
   "execution_count": 1,
   "metadata": {},
   "outputs": [],
   "source": [
    "import pandas as pd\n",
    "import numpy as np\n",
    "from sklearn.cluster import KMeans\n",
    "import matplotlib.pyplot as plt"
   ]
  },
  {
   "cell_type": "code",
   "execution_count": 2,
   "metadata": {},
   "outputs": [
    {
     "data": {
      "text/html": [
       "<div>\n",
       "<style scoped>\n",
       "    .dataframe tbody tr th:only-of-type {\n",
       "        vertical-align: middle;\n",
       "    }\n",
       "\n",
       "    .dataframe tbody tr th {\n",
       "        vertical-align: top;\n",
       "    }\n",
       "\n",
       "    .dataframe thead th {\n",
       "        text-align: right;\n",
       "    }\n",
       "</style>\n",
       "<table border=\"1\" class=\"dataframe\">\n",
       "  <thead>\n",
       "    <tr style=\"text-align: right;\">\n",
       "      <th></th>\n",
       "      <th>WH Lat-Long</th>\n",
       "      <th>Customer Lat-Long</th>\n",
       "    </tr>\n",
       "  </thead>\n",
       "  <tbody>\n",
       "    <tr>\n",
       "      <th>0</th>\n",
       "      <td>19.062668,73.006408</td>\n",
       "      <td>19.047434347826,73.016971478261</td>\n",
       "    </tr>\n",
       "    <tr>\n",
       "      <th>1</th>\n",
       "      <td>19.062668,73.006408</td>\n",
       "      <td>19.047509002597,73.016033798701</td>\n",
       "    </tr>\n",
       "    <tr>\n",
       "      <th>2</th>\n",
       "      <td>19.062668,73.006408</td>\n",
       "      <td>19.047703529954,73.016599608295</td>\n",
       "    </tr>\n",
       "    <tr>\n",
       "      <th>3</th>\n",
       "      <td>19.062668,73.006408</td>\n",
       "      <td>19.048146502000,73.016119993333</td>\n",
       "    </tr>\n",
       "    <tr>\n",
       "      <th>4</th>\n",
       "      <td>19.062668,73.006408</td>\n",
       "      <td>19.048152971429,73.017662185714</td>\n",
       "    </tr>\n",
       "    <tr>\n",
       "      <th>...</th>\n",
       "      <td>...</td>\n",
       "      <td>...</td>\n",
       "    </tr>\n",
       "    <tr>\n",
       "      <th>463</th>\n",
       "      <td>19.062668,73.006408</td>\n",
       "      <td>19.064610098182,73.007222643182</td>\n",
       "    </tr>\n",
       "    <tr>\n",
       "      <th>464</th>\n",
       "      <td>19.062668,73.006408</td>\n",
       "      <td>19.064684396552,73.006964943966</td>\n",
       "    </tr>\n",
       "    <tr>\n",
       "      <th>465</th>\n",
       "      <td>19.062668,73.006408</td>\n",
       "      <td>19.064687730464,73.007236486093</td>\n",
       "    </tr>\n",
       "    <tr>\n",
       "      <th>466</th>\n",
       "      <td>19.062668,73.006408</td>\n",
       "      <td>19.064749378378,73.006939585586</td>\n",
       "    </tr>\n",
       "    <tr>\n",
       "      <th>467</th>\n",
       "      <td>19.062668,73.006408</td>\n",
       "      <td>19.064759548780,73.007247455285</td>\n",
       "    </tr>\n",
       "  </tbody>\n",
       "</table>\n",
       "<p>468 rows × 2 columns</p>\n",
       "</div>"
      ],
      "text/plain": [
       "             WH Lat-Long                Customer Lat-Long\n",
       "0    19.062668,73.006408  19.047434347826,73.016971478261\n",
       "1    19.062668,73.006408  19.047509002597,73.016033798701\n",
       "2    19.062668,73.006408  19.047703529954,73.016599608295\n",
       "3    19.062668,73.006408  19.048146502000,73.016119993333\n",
       "4    19.062668,73.006408  19.048152971429,73.017662185714\n",
       "..                   ...                              ...\n",
       "463  19.062668,73.006408  19.064610098182,73.007222643182\n",
       "464  19.062668,73.006408  19.064684396552,73.006964943966\n",
       "465  19.062668,73.006408  19.064687730464,73.007236486093\n",
       "466  19.062668,73.006408  19.064749378378,73.006939585586\n",
       "467  19.062668,73.006408  19.064759548780,73.007247455285\n",
       "\n",
       "[468 rows x 2 columns]"
      ]
     },
     "execution_count": 2,
     "metadata": {},
     "output_type": "execute_result"
    }
   ],
   "source": [
    "data = pd.read_excel(\"Sample Data_Internship.xlsx\")\n",
    "data"
   ]
  },
  {
   "cell_type": "code",
   "execution_count": 3,
   "metadata": {},
   "outputs": [],
   "source": [
    "WH_lat,WH_lon = [],[]\n",
    "for i in data[\"WH Lat-Long\"]:\n",
    "    lat,lon = i.split(\",\")\n",
    "    WH_lat.append(float(lat))\n",
    "    WH_lon.append(float(lon))\n",
    "    \n",
    "Cust_lat,Cust_lon = [],[]\n",
    "for i in data[\"Customer Lat-Long\"]:\n",
    "    lat,lon = i.split(\",\")\n",
    "    Cust_lat.append(float(lat))\n",
    "    Cust_lon.append(float(lon))"
   ]
  },
  {
   "cell_type": "code",
   "execution_count": 4,
   "metadata": {},
   "outputs": [],
   "source": [
    "data[\"WH_lat\"],data[\"WH_lon\"],data[\"Cust_lat\"],data[\"Cust_lon\"] = WH_lat, WH_lon, Cust_lat, Cust_lon\n"
   ]
  },
  {
   "cell_type": "code",
   "execution_count": 5,
   "metadata": {},
   "outputs": [
    {
     "data": {
      "text/html": [
       "<div>\n",
       "<style scoped>\n",
       "    .dataframe tbody tr th:only-of-type {\n",
       "        vertical-align: middle;\n",
       "    }\n",
       "\n",
       "    .dataframe tbody tr th {\n",
       "        vertical-align: top;\n",
       "    }\n",
       "\n",
       "    .dataframe thead th {\n",
       "        text-align: right;\n",
       "    }\n",
       "</style>\n",
       "<table border=\"1\" class=\"dataframe\">\n",
       "  <thead>\n",
       "    <tr style=\"text-align: right;\">\n",
       "      <th></th>\n",
       "      <th>WH_lat</th>\n",
       "      <th>WH_lon</th>\n",
       "      <th>Cust_lat</th>\n",
       "      <th>Cust_lon</th>\n",
       "    </tr>\n",
       "  </thead>\n",
       "  <tbody>\n",
       "    <tr>\n",
       "      <th>0</th>\n",
       "      <td>19.062668</td>\n",
       "      <td>73.006408</td>\n",
       "      <td>19.047434</td>\n",
       "      <td>73.016971</td>\n",
       "    </tr>\n",
       "    <tr>\n",
       "      <th>1</th>\n",
       "      <td>19.062668</td>\n",
       "      <td>73.006408</td>\n",
       "      <td>19.047509</td>\n",
       "      <td>73.016034</td>\n",
       "    </tr>\n",
       "    <tr>\n",
       "      <th>2</th>\n",
       "      <td>19.062668</td>\n",
       "      <td>73.006408</td>\n",
       "      <td>19.047704</td>\n",
       "      <td>73.016600</td>\n",
       "    </tr>\n",
       "    <tr>\n",
       "      <th>3</th>\n",
       "      <td>19.062668</td>\n",
       "      <td>73.006408</td>\n",
       "      <td>19.048147</td>\n",
       "      <td>73.016120</td>\n",
       "    </tr>\n",
       "    <tr>\n",
       "      <th>4</th>\n",
       "      <td>19.062668</td>\n",
       "      <td>73.006408</td>\n",
       "      <td>19.048153</td>\n",
       "      <td>73.017662</td>\n",
       "    </tr>\n",
       "    <tr>\n",
       "      <th>...</th>\n",
       "      <td>...</td>\n",
       "      <td>...</td>\n",
       "      <td>...</td>\n",
       "      <td>...</td>\n",
       "    </tr>\n",
       "    <tr>\n",
       "      <th>463</th>\n",
       "      <td>19.062668</td>\n",
       "      <td>73.006408</td>\n",
       "      <td>19.064610</td>\n",
       "      <td>73.007223</td>\n",
       "    </tr>\n",
       "    <tr>\n",
       "      <th>464</th>\n",
       "      <td>19.062668</td>\n",
       "      <td>73.006408</td>\n",
       "      <td>19.064684</td>\n",
       "      <td>73.006965</td>\n",
       "    </tr>\n",
       "    <tr>\n",
       "      <th>465</th>\n",
       "      <td>19.062668</td>\n",
       "      <td>73.006408</td>\n",
       "      <td>19.064688</td>\n",
       "      <td>73.007236</td>\n",
       "    </tr>\n",
       "    <tr>\n",
       "      <th>466</th>\n",
       "      <td>19.062668</td>\n",
       "      <td>73.006408</td>\n",
       "      <td>19.064749</td>\n",
       "      <td>73.006940</td>\n",
       "    </tr>\n",
       "    <tr>\n",
       "      <th>467</th>\n",
       "      <td>19.062668</td>\n",
       "      <td>73.006408</td>\n",
       "      <td>19.064760</td>\n",
       "      <td>73.007247</td>\n",
       "    </tr>\n",
       "  </tbody>\n",
       "</table>\n",
       "<p>468 rows × 4 columns</p>\n",
       "</div>"
      ],
      "text/plain": [
       "        WH_lat     WH_lon   Cust_lat   Cust_lon\n",
       "0    19.062668  73.006408  19.047434  73.016971\n",
       "1    19.062668  73.006408  19.047509  73.016034\n",
       "2    19.062668  73.006408  19.047704  73.016600\n",
       "3    19.062668  73.006408  19.048147  73.016120\n",
       "4    19.062668  73.006408  19.048153  73.017662\n",
       "..         ...        ...        ...        ...\n",
       "463  19.062668  73.006408  19.064610  73.007223\n",
       "464  19.062668  73.006408  19.064684  73.006965\n",
       "465  19.062668  73.006408  19.064688  73.007236\n",
       "466  19.062668  73.006408  19.064749  73.006940\n",
       "467  19.062668  73.006408  19.064760  73.007247\n",
       "\n",
       "[468 rows x 4 columns]"
      ]
     },
     "execution_count": 5,
     "metadata": {},
     "output_type": "execute_result"
    }
   ],
   "source": [
    "df = data.drop([\"WH Lat-Long\",\"Customer Lat-Long\"],axis = 1)\n",
    "df"
   ]
  },
  {
   "cell_type": "code",
   "execution_count": 6,
   "metadata": {},
   "outputs": [
    {
     "data": {
      "text/plain": [
       "KMeans(n_clusters=7, random_state=42)"
      ]
     },
     "execution_count": 6,
     "metadata": {},
     "output_type": "execute_result"
    }
   ],
   "source": [
    "x = df.iloc[:,[2,3]].values\n",
    "kmeans = KMeans(n_clusters = 7, init = 'k-means++', random_state = 42)\n",
    "kmeans.fit(x)"
   ]
  },
  {
   "cell_type": "code",
   "execution_count": 7,
   "metadata": {},
   "outputs": [
    {
     "data": {
      "text/plain": [
       "180.61880240781755"
      ]
     },
     "execution_count": 7,
     "metadata": {},
     "output_type": "execute_result"
    }
   ],
   "source": [
    "deg = kmeans.inertia_ #avg dist. from centroid\n",
    "dis = deg*110*1000    # 1 degree = 110km\n",
    "dis    # less than 200m"
   ]
  },
  {
   "cell_type": "code",
   "execution_count": 8,
   "metadata": {},
   "outputs": [],
   "source": [
    "y_kmeans = kmeans.fit_predict(x)"
   ]
  },
  {
   "cell_type": "code",
   "execution_count": 13,
   "metadata": {},
   "outputs": [
    {
     "data": {
      "image/png": "[encoded data removed]",
      "text/plain": [
       "<Figure size 432x288 with 1 Axes>"
      ]
     },
     "metadata": {
      "needs_background": "light"
     },
     "output_type": "display_data"
    }
   ],
   "source": [
    "color = ['red','green','blue','cyan','magenta','yellow','black']\n",
    "label = ['cluster 1','cluster 2','cluster 3','cluster 4','cluster 5','cluster 6','cluster 7']\n",
    "\n",
    "for i in range(7):\n",
    "    plt.scatter(x[y_kmeans == i, 0], x[y_kmeans == i, 1], s = 100, c = color[i], label = label[i])\n",
    "plt.legend()\n",
    "plt.show()"
   ]
  },
  {
   "cell_type": "code",
   "execution_count": 11,
   "metadata": {},
   "outputs": [
    {
     "data": {
      "text/plain": [
       "([2096893.4799999997, 8030704.879999999],\n",
       " array([[2096006.98901767, 8030655.50705609],\n",
       "        [2096514.68459617, 8030477.28777907],\n",
       "        [2096413.24998902, 8031466.14956807],\n",
       "        [2096924.35408059, 8030398.48668042],\n",
       "        [2095542.0326384 , 8031814.57503861],\n",
       "        [2096942.92132993, 8030781.00061015],\n",
       "        [2097022.54245681, 8031453.098298  ]]))"
      ]
     },
     "execution_count": 11,
     "metadata": {},
     "output_type": "execute_result"
    }
   ],
   "source": [
    "start_coord = [df[\"WH_lat\"][0]*110*1000, df[\"WH_lon\"][0]*110*1000]\n",
    "clusters = kmeans.cluster_centers_*110*1000\n",
    "start_coord, clusters"
   ]
  },
  {
   "cell_type": "code",
   "execution_count": null,
   "metadata": {},
   "outputs": [],
   "source": []
  }
 ],
 "metadata": {
  "kernelspec": {
   "display_name": "Python 3",
   "language": "python",
   "name": "python3"
  },
  "language_info": {
   "codemirror_mode": {
    "name": "ipython",
    "version": 3
   },
   "file_extension": ".py",
   "mimetype": "text/x-python",
   "name": "python",
   "nbconvert_exporter": "python",
   "pygments_lexer": "ipython3",
   "version": "3.8.8"
  }
 },
 "nbformat": 4,
 "nbformat_minor": 4
}
